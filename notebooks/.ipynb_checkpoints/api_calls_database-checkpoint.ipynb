{
 "cells": [
  {
   "cell_type": "markdown",
   "id": "79e1eedc",
   "metadata": {},
   "source": [
    "# Import libraries"
   ]
  },
  {
   "cell_type": "code",
   "execution_count": 1,
   "id": "74835586",
   "metadata": {},
   "outputs": [],
   "source": [
    "import pandas as pd\n",
    "import googlemaps\n",
    "import os\n",
    "import pymongo\n",
    "import requests\n",
    "import json\n",
    "import geopandas as gpd\n",
    "import shapely.geometry\n",
    "from pymongo import MongoClient, GEOSPHERE\n",
    "from cartoframes.viz import Map, Layer, popup_element\n",
    "from dotenv import load_dotenv\n",
    "import sys\n",
    "sys.path.append('../')\n",
    "import src.cleaning as cl"
   ]
  },
  {
   "cell_type": "code",
   "execution_count": 2,
   "id": "8f4c5389",
   "metadata": {},
   "outputs": [],
   "source": [
    "client = MongoClient('localhost:27017')\n",
    "db = client.get_database('ironhack')"
   ]
  },
  {
   "cell_type": "markdown",
   "id": "8239a75b",
   "metadata": {},
   "source": [
    "# Create mongo collections per city"
   ]
  },
  {
   "cell_type": "code",
   "execution_count": 3,
   "id": "9875ec6f",
   "metadata": {},
   "outputs": [
    {
     "data": {
      "text/plain": [
       "True"
      ]
     },
     "execution_count": 3,
     "metadata": {},
     "output_type": "execute_result"
    }
   ],
   "source": [
    "load_dotenv()"
   ]
  },
  {
   "cell_type": "code",
   "execution_count": 11,
   "id": "7d0407a9",
   "metadata": {},
   "outputs": [],
   "source": [
    "g_API = os.getenv('key')\n",
    "gmaps_key = googlemaps.Client(key=g_API)"
   ]
  },
  {
   "cell_type": "code",
   "execution_count": null,
   "id": "1c4ed0ac",
   "metadata": {},
   "outputs": [],
   "source": [
    "\"\"\"\n",
    "List of attributes to search per city:\n",
    "-bar // r = 1,000mts\n",
    "-airport // r = 30,000mts\n",
    "-school // r = 10,000mts\n",
    "\"\"\";"
   ]
  },
  {
   "cell_type": "markdown",
   "id": "1bf3d775",
   "metadata": {},
   "source": [
    "## Madrid"
   ]
  },
  {
   "cell_type": "code",
   "execution_count": 83,
   "id": "3b7189d8",
   "metadata": {},
   "outputs": [],
   "source": [
    "mad_lat = cl.geocode('Madrid')['coordinates'][0]\n",
    "mad_lng = cl.geocode('Madrid')['coordinates'][1]"
   ]
  },
  {
   "cell_type": "code",
   "execution_count": 84,
   "id": "a2fb00e5",
   "metadata": {},
   "outputs": [],
   "source": [
    "mad_bar = cl.nearby(mad_lat, mad_lng, 1000, 'bar')\n",
    "mad_school = cl.nearby(mad_lat, mad_lng, 10000, 'school')\n",
    "mad_airport = cl.nearby(mad_lat, mad_lng, 30000, 'airport')\n",
    "df_mad = pd.concat([mad_bar, mad_school, mad_airport]).reset_index(drop=True)"
   ]
  },
  {
   "cell_type": "code",
   "execution_count": null,
   "id": "3c018cba",
   "metadata": {},
   "outputs": [],
   "source": [
    "# Exportar a mongo"
   ]
  },
  {
   "cell_type": "code",
   "execution_count": 85,
   "id": "dff4f148",
   "metadata": {},
   "outputs": [
    {
     "data": {
      "text/html": [
       "<div>\n",
       "<style scoped>\n",
       "    .dataframe tbody tr th:only-of-type {\n",
       "        vertical-align: middle;\n",
       "    }\n",
       "\n",
       "    .dataframe tbody tr th {\n",
       "        vertical-align: top;\n",
       "    }\n",
       "\n",
       "    .dataframe thead th {\n",
       "        text-align: right;\n",
       "    }\n",
       "</style>\n",
       "<table border=\"1\" class=\"dataframe\">\n",
       "  <thead>\n",
       "    <tr style=\"text-align: right;\">\n",
       "      <th></th>\n",
       "      <th>types</th>\n",
       "      <th>name</th>\n",
       "      <th>longitude</th>\n",
       "      <th>lattitude</th>\n",
       "      <th>geometry</th>\n",
       "    </tr>\n",
       "  </thead>\n",
       "  <tbody>\n",
       "    <tr>\n",
       "      <th>57</th>\n",
       "      <td>airport</td>\n",
       "      <td>Aegean Airlines</td>\n",
       "      <td>-3.569499</td>\n",
       "      <td>40.467634</td>\n",
       "      <td>POINT (-3.56950 40.46763)</td>\n",
       "    </tr>\n",
       "    <tr>\n",
       "      <th>19</th>\n",
       "      <td>bar</td>\n",
       "      <td>Bar Rama</td>\n",
       "      <td>-3.636650</td>\n",
       "      <td>40.396986</td>\n",
       "      <td>POINT (-3.63665 40.39699)</td>\n",
       "    </tr>\n",
       "    <tr>\n",
       "      <th>27</th>\n",
       "      <td>school</td>\n",
       "      <td>Hastings School - Azulinas (Primary)</td>\n",
       "      <td>-3.683805</td>\n",
       "      <td>40.464174</td>\n",
       "      <td>POINT (-3.68380 40.46417)</td>\n",
       "    </tr>\n",
       "  </tbody>\n",
       "</table>\n",
       "</div>"
      ],
      "text/plain": [
       "      types                                  name  longitude  lattitude  \\\n",
       "57  airport                       Aegean Airlines  -3.569499  40.467634   \n",
       "19      bar                              Bar Rama  -3.636650  40.396986   \n",
       "27   school  Hastings School - Azulinas (Primary)  -3.683805  40.464174   \n",
       "\n",
       "                     geometry  \n",
       "57  POINT (-3.56950 40.46763)  \n",
       "19  POINT (-3.63665 40.39699)  \n",
       "27  POINT (-3.68380 40.46417)  "
      ]
     },
     "execution_count": 85,
     "metadata": {},
     "output_type": "execute_result"
    }
   ],
   "source": [
    "df_mad = gpd.GeoDataFrame(df_mad, geometry=gpd.points_from_xy(df_mad.longitude, df_mad.lattitude))\n",
    "df_mad.sample(3)"
   ]
  },
  {
   "cell_type": "code",
   "execution_count": 86,
   "id": "68614fe1",
   "metadata": {},
   "outputs": [
    {
     "name": "stderr",
     "output_type": "stream",
     "text": [
      "/opt/homebrew/Caskroom/miniconda/base/envs/ironhack/lib/python3.9/site-packages/geopandas/geodataframe.py:1350: UserWarning: Geometry column does not contain geometry.\n",
      "  warnings.warn(\"Geometry column does not contain geometry.\")\n"
     ]
    }
   ],
   "source": [
    "df_mad['geometry']=df_mad['geometry'].apply(lambda x:shapely.geometry.mapping(x))"
   ]
  },
  {
   "cell_type": "code",
   "execution_count": 87,
   "id": "f714cbbd",
   "metadata": {},
   "outputs": [
    {
     "data": {
      "text/plain": [
       "<pymongo.results.InsertManyResult at 0x7fefd3145dc0>"
      ]
     },
     "execution_count": 87,
     "metadata": {},
     "output_type": "execute_result"
    }
   ],
   "source": [
    "collectionMadrid = client.ironhack['Madrid'] #create collection name\n",
    "collectionMadrid.create_index([(\"geometry\", GEOSPHERE)]) #create collection index\n",
    "df_mad = df_mad.to_dict(orient='records') # change pd.DataFrame format to dictionary\n",
    "collectionMadrid.insert_many(df_mad) #insert data into collection"
   ]
  },
  {
   "cell_type": "markdown",
   "id": "36bf19eb",
   "metadata": {},
   "source": [
    "## Vancouver"
   ]
  },
  {
   "cell_type": "code",
   "execution_count": 77,
   "id": "29a5ba66",
   "metadata": {},
   "outputs": [],
   "source": [
    "van_lat = cl.geocode('Vancouver')['coordinates'][0]\n",
    "van_lng = cl.geocode('Vancouver')['coordinates'][1]"
   ]
  },
  {
   "cell_type": "code",
   "execution_count": 78,
   "id": "f3a7459f",
   "metadata": {},
   "outputs": [],
   "source": [
    "van_bar = cl.nearby(van_lat, van_lng, 1000, 'bar')\n",
    "van_school = cl.nearby(van_lat, van_lng, 10000, 'school')\n",
    "van_airport = cl.nearby(van_lat, van_lng, 30000, 'airport')\n",
    "df_van = pd.concat([van_bar, van_school, van_airport]).reset_index(drop=True)"
   ]
  },
  {
   "cell_type": "code",
   "execution_count": 79,
   "id": "b0657aaf",
   "metadata": {},
   "outputs": [
    {
     "data": {
      "text/html": [
       "<div>\n",
       "<style scoped>\n",
       "    .dataframe tbody tr th:only-of-type {\n",
       "        vertical-align: middle;\n",
       "    }\n",
       "\n",
       "    .dataframe tbody tr th {\n",
       "        vertical-align: top;\n",
       "    }\n",
       "\n",
       "    .dataframe thead th {\n",
       "        text-align: right;\n",
       "    }\n",
       "</style>\n",
       "<table border=\"1\" class=\"dataframe\">\n",
       "  <thead>\n",
       "    <tr style=\"text-align: right;\">\n",
       "      <th></th>\n",
       "      <th>types</th>\n",
       "      <th>name</th>\n",
       "      <th>longitude</th>\n",
       "      <th>lattitude</th>\n",
       "      <th>geometry</th>\n",
       "    </tr>\n",
       "  </thead>\n",
       "  <tbody>\n",
       "    <tr>\n",
       "      <th>27</th>\n",
       "      <td>school</td>\n",
       "      <td>York House School</td>\n",
       "      <td>-123.141172</td>\n",
       "      <td>49.248905</td>\n",
       "      <td>POINT (-123.14117 49.24891)</td>\n",
       "    </tr>\n",
       "    <tr>\n",
       "      <th>41</th>\n",
       "      <td>airport</td>\n",
       "      <td>YVR-Airport</td>\n",
       "      <td>-123.178273</td>\n",
       "      <td>49.194209</td>\n",
       "      <td>POINT (-123.17827 49.19421)</td>\n",
       "    </tr>\n",
       "    <tr>\n",
       "      <th>44</th>\n",
       "      <td>airport</td>\n",
       "      <td>Vancouver VORTAC YVR 115.9</td>\n",
       "      <td>-123.149102</td>\n",
       "      <td>49.077324</td>\n",
       "      <td>POINT (-123.14910 49.07732)</td>\n",
       "    </tr>\n",
       "  </tbody>\n",
       "</table>\n",
       "</div>"
      ],
      "text/plain": [
       "      types                        name   longitude  lattitude  \\\n",
       "27   school           York House School -123.141172  49.248905   \n",
       "41  airport                 YVR-Airport -123.178273  49.194209   \n",
       "44  airport  Vancouver VORTAC YVR 115.9 -123.149102  49.077324   \n",
       "\n",
       "                       geometry  \n",
       "27  POINT (-123.14117 49.24891)  \n",
       "41  POINT (-123.17827 49.19421)  \n",
       "44  POINT (-123.14910 49.07732)  "
      ]
     },
     "execution_count": 79,
     "metadata": {},
     "output_type": "execute_result"
    }
   ],
   "source": [
    "df_van = gpd.GeoDataFrame(df_van, geometry=gpd.points_from_xy(df_van.longitude, df_van.lattitude))\n",
    "df_van.sample(3) #insert geo column"
   ]
  },
  {
   "cell_type": "code",
   "execution_count": 80,
   "id": "db63d838",
   "metadata": {},
   "outputs": [
    {
     "name": "stderr",
     "output_type": "stream",
     "text": [
      "/opt/homebrew/Caskroom/miniconda/base/envs/ironhack/lib/python3.9/site-packages/geopandas/geodataframe.py:1350: UserWarning: Geometry column does not contain geometry.\n",
      "  warnings.warn(\"Geometry column does not contain geometry.\")\n"
     ]
    }
   ],
   "source": [
    "df_van['geometry']=df_van['geometry'].apply(lambda x:shapely.geometry.mapping(x))"
   ]
  },
  {
   "cell_type": "code",
   "execution_count": 81,
   "id": "d0e7edc6",
   "metadata": {},
   "outputs": [
    {
     "data": {
      "text/plain": [
       "<pymongo.results.InsertManyResult at 0x7fefc139a740>"
      ]
     },
     "execution_count": 81,
     "metadata": {},
     "output_type": "execute_result"
    }
   ],
   "source": [
    "collectionVancouver = client.ironhack['Vancouver'] #create collection name\n",
    "collectionVancouver.create_index([(\"geometry\", GEOSPHERE)]) #create collection index\n",
    "df_van = df_van.to_dict(orient='records') # change pd.DataFrame format to dictionary\n",
    "collectionVancouver.insert_many(df_van) #insert data into collection"
   ]
  },
  {
   "cell_type": "markdown",
   "id": "56a76b90",
   "metadata": {},
   "source": [
    "## Trentino-Alto Adige"
   ]
  },
  {
   "cell_type": "code",
   "execution_count": 13,
   "id": "e7347e75",
   "metadata": {},
   "outputs": [],
   "source": [
    "tren_lat = cl.geocode('Trentino-Alto Adige')['coordinates'][0]\n",
    "tren_lng = cl.geocode('Trentino-Alto Adige')['coordinates'][1]"
   ]
  },
  {
   "cell_type": "code",
   "execution_count": 72,
   "id": "c340ab33",
   "metadata": {},
   "outputs": [],
   "source": [
    "tren_bar = cl.nearby(tren_lat, tren_lng, 1000, 'bar')\n",
    "tren_school = cl.nearby(tren_lat, tren_lng, 10000, 'school')\n",
    "tren_airport = cl.nearby(tren_lat, tren_lng, 30000, 'airport')\n",
    "df_tren = pd.concat([tren_bar, tren_school, tren_airport]).reset_index(drop=True)"
   ]
  },
  {
   "cell_type": "code",
   "execution_count": 73,
   "id": "b6c1b986",
   "metadata": {},
   "outputs": [
    {
     "data": {
      "text/html": [
       "<div>\n",
       "<style scoped>\n",
       "    .dataframe tbody tr th:only-of-type {\n",
       "        vertical-align: middle;\n",
       "    }\n",
       "\n",
       "    .dataframe tbody tr th {\n",
       "        vertical-align: top;\n",
       "    }\n",
       "\n",
       "    .dataframe thead th {\n",
       "        text-align: right;\n",
       "    }\n",
       "</style>\n",
       "<table border=\"1\" class=\"dataframe\">\n",
       "  <thead>\n",
       "    <tr style=\"text-align: right;\">\n",
       "      <th></th>\n",
       "      <th>types</th>\n",
       "      <th>name</th>\n",
       "      <th>longitude</th>\n",
       "      <th>lattitude</th>\n",
       "      <th>geometry</th>\n",
       "    </tr>\n",
       "  </thead>\n",
       "  <tbody>\n",
       "    <tr>\n",
       "      <th>38</th>\n",
       "      <td>secondary_school</td>\n",
       "      <td>Landesberufsschule Handel und Grafik Johannes ...</td>\n",
       "      <td>11.329987</td>\n",
       "      <td>46.482701</td>\n",
       "      <td>POINT (11.32999 46.48270)</td>\n",
       "    </tr>\n",
       "    <tr>\n",
       "      <th>32</th>\n",
       "      <td>secondary_school</td>\n",
       "      <td>Mittelschule Deutschnofen</td>\n",
       "      <td>11.427888</td>\n",
       "      <td>46.414612</td>\n",
       "      <td>POINT (11.42789 46.41461)</td>\n",
       "    </tr>\n",
       "    <tr>\n",
       "      <th>20</th>\n",
       "      <td>secondary_school</td>\n",
       "      <td>Waldorf Ober- &amp; Mittelstufe Bozen</td>\n",
       "      <td>11.325133</td>\n",
       "      <td>46.473109</td>\n",
       "      <td>POINT (11.32513 46.47311)</td>\n",
       "    </tr>\n",
       "  </tbody>\n",
       "</table>\n",
       "</div>"
      ],
      "text/plain": [
       "               types                                               name  \\\n",
       "38  secondary_school  Landesberufsschule Handel und Grafik Johannes ...   \n",
       "32  secondary_school                          Mittelschule Deutschnofen   \n",
       "20  secondary_school                  Waldorf Ober- & Mittelstufe Bozen   \n",
       "\n",
       "    longitude  lattitude                   geometry  \n",
       "38  11.329987  46.482701  POINT (11.32999 46.48270)  \n",
       "32  11.427888  46.414612  POINT (11.42789 46.41461)  \n",
       "20  11.325133  46.473109  POINT (11.32513 46.47311)  "
      ]
     },
     "execution_count": 73,
     "metadata": {},
     "output_type": "execute_result"
    }
   ],
   "source": [
    "df_tren = gpd.GeoDataFrame(df_tren, geometry=gpd.points_from_xy(df_tren.longitude, df_tren.lattitude))\n",
    "df_tren.sample(3)"
   ]
  },
  {
   "cell_type": "code",
   "execution_count": 74,
   "id": "a47a6f03",
   "metadata": {
    "scrolled": false
   },
   "outputs": [
    {
     "name": "stderr",
     "output_type": "stream",
     "text": [
      "/opt/homebrew/Caskroom/miniconda/base/envs/ironhack/lib/python3.9/site-packages/geopandas/geodataframe.py:1350: UserWarning: Geometry column does not contain geometry.\n",
      "  warnings.warn(\"Geometry column does not contain geometry.\")\n"
     ]
    }
   ],
   "source": [
    "df_tren['geometry']=df_tren['geometry'].apply(lambda x:shapely.geometry.mapping(x))"
   ]
  },
  {
   "cell_type": "code",
   "execution_count": 75,
   "id": "21a36124",
   "metadata": {
    "scrolled": true
   },
   "outputs": [
    {
     "data": {
      "text/plain": [
       "<pymongo.results.InsertManyResult at 0x7fefc1ace140>"
      ]
     },
     "execution_count": 75,
     "metadata": {},
     "output_type": "execute_result"
    }
   ],
   "source": [
    "collectionTrentino = client.ironhack['Trentino-Alto Adige'] #create collection name\n",
    "collectionTrentino.create_index([(\"geometry\", GEOSPHERE)]) #create collection index\n",
    "df_tren = df_tren.to_dict(orient='records') # change pd.DataFrame format to dictionary\n",
    "collectionTrentino.insert_many(df_tren) #insert data into collection"
   ]
  }
 ],
 "metadata": {
  "kernelspec": {
   "display_name": "ironhack",
   "language": "python",
   "name": "ironhack"
  },
  "language_info": {
   "codemirror_mode": {
    "name": "ipython",
    "version": 3
   },
   "file_extension": ".py",
   "mimetype": "text/x-python",
   "name": "python",
   "nbconvert_exporter": "python",
   "pygments_lexer": "ipython3",
   "version": "3.9.7"
  }
 },
 "nbformat": 4,
 "nbformat_minor": 5
}
