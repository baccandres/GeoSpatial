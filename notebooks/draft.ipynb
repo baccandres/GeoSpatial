{
 "cells": [
  {
   "cell_type": "markdown",
   "id": "7e991207",
   "metadata": {},
   "source": [
    "# Import libraries:"
   ]
  },
  {
   "cell_type": "code",
   "execution_count": 3,
   "id": "745dc110",
   "metadata": {},
   "outputs": [],
   "source": [
    "import pandas as pd\n",
    "import googlemaps\n",
    "import os\n",
    "import pymongo\n",
    "import requests\n",
    "import json\n",
    "import geopandas as gpd\n",
    "from pymongo import MongoClient\n",
    "from cartoframes.viz import Map, Layer, popup_element\n",
    "from dotenv import load_dotenv\n",
    "from faker import Faker"
   ]
  },
  {
   "cell_type": "code",
   "execution_count": 4,
   "id": "f519a842",
   "metadata": {},
   "outputs": [],
   "source": [
    "import sys\n",
    "sys.path.append('../')\n",
    "import src.cleaning as cl"
   ]
  },
  {
   "cell_type": "markdown",
   "id": "e54edc3f",
   "metadata": {},
   "source": [
    "# Call Google Geocode API"
   ]
  },
  {
   "cell_type": "code",
   "execution_count": 5,
   "id": "5b0e75a0",
   "metadata": {},
   "outputs": [
    {
     "data": {
      "text/plain": [
       "True"
      ]
     },
     "execution_count": 5,
     "metadata": {},
     "output_type": "execute_result"
    }
   ],
   "source": [
    "load_dotenv()"
   ]
  },
  {
   "cell_type": "code",
   "execution_count": null,
   "id": "7fa73dec",
   "metadata": {},
   "outputs": [],
   "source": [
    "#Set Google MAPS API_Key\n",
    "g_API = os.getenv('key')\n",
    "gmaps_key = googlemaps.Client(key=g_API)"
   ]
  },
  {
   "cell_type": "code",
   "execution_count": null,
   "id": "5ebd9a6c",
   "metadata": {},
   "outputs": [],
   "source": [
    "fake = Faker()\n",
    "df = pd.DataFrame(data=[fake.address().replace('\\n', \" \") for i in range(3)], columns=[\"address\"])\n",
    "\n",
    "# Create columns to store longitude and lattitude\n",
    "df[\"longitude\"] = None\n",
    "df[\"latitude\"] = None\n",
    "#for i in df.index:\n",
    "    geocode_obj = gmaps_key.geocode(df.loc[i, \"address\"])\n",
    "    #try:\n",
    "        lat = geocode_obj[0]['geometry']['location']['lat']\n",
    "        lon = geocode_obj[0]['geometry']['location']['lng']\n",
    "        df.loc[i,'latitude'] = lat\n",
    "        df.loc[i,'longitude'] = lon\n",
    "    #except:\n",
    "        lat = None\n",
    "        lon = None"
   ]
  },
  {
   "cell_type": "code",
   "execution_count": null,
   "id": "175bfb32",
   "metadata": {},
   "outputs": [],
   "source": [
    "df.sample(3)"
   ]
  },
  {
   "cell_type": "markdown",
   "id": "b844f645",
   "metadata": {},
   "source": [
    "# Use geocode.xyz to get locations coordinates"
   ]
  },
  {
   "cell_type": "code",
   "execution_count": null,
   "id": "3fa68655",
   "metadata": {},
   "outputs": [],
   "source": [
    "def geocode (x):\n",
    "    data = requests.get(f\"https://geocode.xyz/{x}?json=1\").json()\n",
    "    try:\n",
    "        return {\"type\": \"Point\", \"coordinates\": [data[\"latt\"], data[\"longt\"]]}\n",
    "    except:\n",
    "        return data"
   ]
  },
  {
   "cell_type": "code",
   "execution_count": null,
   "id": "6d8accf4",
   "metadata": {},
   "outputs": [],
   "source": [
    "trentino = geocode('Trentino-Alto Adige')\n",
    "vancouver = geocode('Vancouver')\n",
    "madrid = geocode('Madrid')"
   ]
  },
  {
   "cell_type": "code",
   "execution_count": 24,
   "id": "3806650c",
   "metadata": {},
   "outputs": [],
   "source": [
    "def geocodex (x):\n",
    "    data = requests.get(f\"https://geocode.xyz/{x}?json=1\").json()\n",
    "    try:\n",
    "        return data[\"latt\"], data[\"longt\"]\n",
    "    except:\n",
    "        return data"
   ]
  },
  {
   "cell_type": "code",
   "execution_count": 26,
   "id": "66d35c52",
   "metadata": {},
   "outputs": [
    {
     "data": {
      "text/plain": [
       "('40.39818', '-3.62207')"
      ]
     },
     "execution_count": 26,
     "metadata": {},
     "output_type": "execute_result"
    }
   ],
   "source": [
    "geocodex('Madrid')"
   ]
  },
  {
   "cell_type": "markdown",
   "id": "1fee46d9",
   "metadata": {},
   "source": [
    "# Weighted score of the attributes of the place"
   ]
  },
  {
   "cell_type": "code",
   "execution_count": null,
   "id": "a2d8fe38",
   "metadata": {},
   "outputs": [],
   "source": [
    "\"\"\"\n",
    "-Starbucks\n",
    "-Bars x\n",
    "-Airportx\n",
    "-Schools \n",
    "-Vegan restaurants\n",
    "-Basketball stadium\n",
    "-Vet x\n",
    "-Graphic design companies\n",
    "-Tech startups worth +1 Million USD\n",
    "\"\"\""
   ]
  },
  {
   "cell_type": "code",
   "execution_count": null,
   "id": "9d2eddd0",
   "metadata": {},
   "outputs": [],
   "source": [
    "# Google places nearby calls"
   ]
  },
  {
   "cell_type": "code",
   "execution_count": null,
   "id": "0466328d",
   "metadata": {},
   "outputs": [],
   "source": [
    "G_PLACES_API = \"https://maps.googleapis.com/maps/api/place/nearbysearch/json?location={lat},{lng}&radius={radius}&keyword={keyword}&key={key}\"\n",
    "\"\"\"\n",
    "parameters:\n",
    "-lat\n",
    "-lng\n",
    "-radius\n",
    "-keyword\n",
    "-gmaps_key\n",
    "\"\"\""
   ]
  },
  {
   "cell_type": "code",
   "execution_count": null,
   "id": "86c44f5c",
   "metadata": {},
   "outputs": [],
   "source": [
    "# vancouver test\n",
    "\n",
    "lat = 49.283194704887585\n",
    "lng = -123.11785504249058\n",
    "radius = 30000\n",
    "keyword = 'airport'"
   ]
  },
  {
   "cell_type": "code",
   "execution_count": null,
   "id": "21b177f8",
   "metadata": {},
   "outputs": [],
   "source": [
    "url = f\"https://maps.googleapis.com/maps/api/place/nearbysearch/json?location={lat},{lng}&radius={radius}&keyword={keyword}&key={g_API}\"\n",
    "payload={}\n",
    "headers = {}\n",
    "response = requests.request(\"GET\", url, headers=headers, data=payload)"
   ]
  },
  {
   "cell_type": "code",
   "execution_count": null,
   "id": "fad98de8",
   "metadata": {},
   "outputs": [],
   "source": [
    "response.json()['results'][0]['name']"
   ]
  },
  {
   "cell_type": "code",
   "execution_count": null,
   "id": "8de08e51",
   "metadata": {},
   "outputs": [],
   "source": [
    "response.json()['results'][0]['geometry']['location']['lat']"
   ]
  },
  {
   "cell_type": "code",
   "execution_count": null,
   "id": "fe017d7c",
   "metadata": {},
   "outputs": [],
   "source": [
    "response.json()['results'][0]['geometry']['location']['lng']"
   ]
  },
  {
   "cell_type": "code",
   "execution_count": null,
   "id": "dea968c5",
   "metadata": {},
   "outputs": [],
   "source": [
    "x = response.json()['results']"
   ]
  },
  {
   "cell_type": "code",
   "execution_count": null,
   "id": "9d527e2b",
   "metadata": {},
   "outputs": [],
   "source": [
    "df_x = pd.DataFrame(x)"
   ]
  },
  {
   "cell_type": "code",
   "execution_count": null,
   "id": "78591a89",
   "metadata": {},
   "outputs": [],
   "source": [
    "len(df_x)"
   ]
  },
  {
   "cell_type": "code",
   "execution_count": null,
   "id": "b1a96dfe",
   "metadata": {},
   "outputs": [],
   "source": [
    "df_x.sample(3)"
   ]
  },
  {
   "cell_type": "code",
   "execution_count": null,
   "id": "9da978e9",
   "metadata": {},
   "outputs": [],
   "source": [
    "df_x['types']=df_x.types[0][0]\n",
    "df_x.head(3)"
   ]
  },
  {
   "cell_type": "code",
   "execution_count": null,
   "id": "69d3dafb",
   "metadata": {},
   "outputs": [],
   "source": [
    "df_y = df_x.filter(items=['types','name', 'geometry'])"
   ]
  },
  {
   "cell_type": "code",
   "execution_count": null,
   "id": "cdd94e43",
   "metadata": {},
   "outputs": [],
   "source": [
    "df_y.geometry.iloc[0]['location']"
   ]
  },
  {
   "cell_type": "code",
   "execution_count": null,
   "id": "a0e4c6de",
   "metadata": {},
   "outputs": [],
   "source": [
    "def lngt (geometry):\n",
    "    return geometry['location']['lng']"
   ]
  },
  {
   "cell_type": "code",
   "execution_count": null,
   "id": "029931c1",
   "metadata": {},
   "outputs": [],
   "source": [
    "def latt (geometry):\n",
    "    return geometry['location']['lat']"
   ]
  },
  {
   "cell_type": "code",
   "execution_count": null,
   "id": "5d87f22e",
   "metadata": {},
   "outputs": [],
   "source": [
    "df_y['longitude'] = df_y.geometry.apply(lngt)"
   ]
  },
  {
   "cell_type": "code",
   "execution_count": null,
   "id": "11204da9",
   "metadata": {},
   "outputs": [],
   "source": [
    "df_y['lattitude'] = df_y.geometry.apply(latt)"
   ]
  },
  {
   "cell_type": "code",
   "execution_count": null,
   "id": "4e963b4d",
   "metadata": {},
   "outputs": [],
   "source": [
    "df_y = df_y[['types','name', 'longitude', 'lattitude']]\n",
    "df_y.sample(3)"
   ]
  },
  {
   "cell_type": "code",
   "execution_count": null,
   "id": "e32f60bc",
   "metadata": {},
   "outputs": [],
   "source": [
    "### create location // type point"
   ]
  },
  {
   "cell_type": "code",
   "execution_count": null,
   "id": "15c1a5b6",
   "metadata": {},
   "outputs": [],
   "source": [
    "def typePoint (lng, lat):\n",
    "    return {'type': 'Point', 'coordinates': [lng, lat]}"
   ]
  },
  {
   "cell_type": "code",
   "execution_count": null,
   "id": "b61e4ecf",
   "metadata": {},
   "outputs": [],
   "source": [
    "typePoint(-123.181512,49.196691)"
   ]
  },
  {
   "cell_type": "code",
   "execution_count": null,
   "id": "8bd04c63",
   "metadata": {},
   "outputs": [],
   "source": [
    "df_y[\"points\"] = df_y.apply(lambda x: typePoint(x['longitude'], x['lattitude']), axis = 1)"
   ]
  },
  {
   "cell_type": "code",
   "execution_count": null,
   "id": "18934e7a",
   "metadata": {},
   "outputs": [],
   "source": [
    "df_y.sample(3)"
   ]
  },
  {
   "cell_type": "code",
   "execution_count": null,
   "id": "8093df75",
   "metadata": {},
   "outputs": [],
   "source": []
  },
  {
   "cell_type": "code",
   "execution_count": null,
   "id": "8269aa30",
   "metadata": {},
   "outputs": [],
   "source": []
  },
  {
   "cell_type": "code",
   "execution_count": null,
   "id": "7265b6ab",
   "metadata": {},
   "outputs": [],
   "source": []
  }
 ],
 "metadata": {
  "kernelspec": {
   "display_name": "ironhack",
   "language": "python",
   "name": "ironhack"
  },
  "language_info": {
   "codemirror_mode": {
    "name": "ipython",
    "version": 3
   },
   "file_extension": ".py",
   "mimetype": "text/x-python",
   "name": "python",
   "nbconvert_exporter": "python",
   "pygments_lexer": "ipython3",
   "version": "3.9.7"
  }
 },
 "nbformat": 4,
 "nbformat_minor": 5
}
