{
 "cells": [
  {
   "cell_type": "markdown",
   "id": "6f0e1a7e",
   "metadata": {},
   "source": [
    "# Choosing the best city for my new office"
   ]
  },
  {
   "cell_type": "markdown",
   "id": "10a16374",
   "metadata": {},
   "source": [
    "### Import libraries"
   ]
  },
  {
   "cell_type": "code",
   "execution_count": 1,
   "id": "77bcae01",
   "metadata": {},
   "outputs": [],
   "source": [
    "from pymongo import GEOSPHERE\n",
    "from pymongo import MongoClient\n",
    "import pandas as pd\n",
    "import sys\n",
    "sys.path.append('../')\n",
    "import src.cleaning as cl"
   ]
  },
  {
   "cell_type": "code",
   "execution_count": 2,
   "id": "fa2fe9d2",
   "metadata": {},
   "outputs": [],
   "source": [
    "client = MongoClient('localhost:27017')\n",
    "db = client.get_database('ironhack')"
   ]
  },
  {
   "cell_type": "markdown",
   "id": "1cf171d7",
   "metadata": {},
   "source": [
    "### Getting the distances from bars, airports and schools from each city main coordinate."
   ]
  },
  {
   "cell_type": "code",
   "execution_count": 3,
   "id": "b15ce932",
   "metadata": {},
   "outputs": [],
   "source": [
    "madrid = db.get_collection('Madrid')\n",
    "vancouver = db.get_collection('Vancouver')\n",
    "trentino = db.get_collection('Trentino-Alto Adige')"
   ]
  },
  {
   "cell_type": "code",
   "execution_count": 4,
   "id": "0734bfc6",
   "metadata": {},
   "outputs": [],
   "source": [
    "mad_coo = {'type': 'Point', 'coordinates': [-3.62207, 40.39818]}\n",
    "van_coo = {'type': 'Point', 'coordinates': [-123.10299, 49.24847]}\n",
    "tre_coo = {'type': 'Point', 'coordinates': [11.33492, 46.47754]}"
   ]
  },
  {
   "cell_type": "markdown",
   "id": "5bdac8fa",
   "metadata": {},
   "source": [
    "##### MADRID "
   ]
  },
  {
   "cell_type": "code",
   "execution_count": 6,
   "id": "68dff21f",
   "metadata": {},
   "outputs": [
    {
     "data": {
      "text/html": [
       "<div>\n",
       "<style scoped>\n",
       "    .dataframe tbody tr th:only-of-type {\n",
       "        vertical-align: middle;\n",
       "    }\n",
       "\n",
       "    .dataframe tbody tr th {\n",
       "        vertical-align: top;\n",
       "    }\n",
       "\n",
       "    .dataframe thead th {\n",
       "        text-align: right;\n",
       "    }\n",
       "</style>\n",
       "<table border=\"1\" class=\"dataframe\">\n",
       "  <thead>\n",
       "    <tr style=\"text-align: right;\">\n",
       "      <th></th>\n",
       "      <th>city</th>\n",
       "      <th>types</th>\n",
       "      <th>name</th>\n",
       "      <th>longitude</th>\n",
       "      <th>lattitude</th>\n",
       "      <th>distance</th>\n",
       "    </tr>\n",
       "  </thead>\n",
       "  <tbody>\n",
       "    <tr>\n",
       "      <th>0</th>\n",
       "      <td>Madrid</td>\n",
       "      <td>bar</td>\n",
       "      <td>Bar</td>\n",
       "      <td>-3.624506</td>\n",
       "      <td>40.397586</td>\n",
       "      <td>0.21657</td>\n",
       "    </tr>\n",
       "  </tbody>\n",
       "</table>\n",
       "</div>"
      ],
      "text/plain": [
       "     city types name  longitude  lattitude  distance\n",
       "0  Madrid   bar  Bar  -3.624506  40.397586   0.21657"
      ]
     },
     "execution_count": 6,
     "metadata": {},
     "output_type": "execute_result"
    }
   ],
   "source": [
    "query_mad = [{\"$geoNear\": {\n",
    "            \"near\": mad_coo['coordinates'],\n",
    "            \"distanceField\": \"distance\",\n",
    "            \"maxDistance\": 30000,\n",
    "            \"distanceMultiplier\" :6371,\n",
    "            \"spherical\": True}}]\n",
    "dist_mad = list(madrid.aggregate(query_mad))\n",
    "dist_mad = pd.DataFrame(dist_mad)\n",
    "dist_mad = dist_mad.drop(columns=['_id', 'geometry'])\n",
    "dist_mad.insert(0, 'city', 'Madrid')\n",
    "dist_mad.head(1)"
   ]
  },
  {
   "cell_type": "markdown",
   "id": "821e2f28",
   "metadata": {},
   "source": [
    "#### VANCOUVER "
   ]
  },
  {
   "cell_type": "code",
   "execution_count": 8,
   "id": "05a4a9f3",
   "metadata": {},
   "outputs": [
    {
     "data": {
      "text/html": [
       "<div>\n",
       "<style scoped>\n",
       "    .dataframe tbody tr th:only-of-type {\n",
       "        vertical-align: middle;\n",
       "    }\n",
       "\n",
       "    .dataframe tbody tr th {\n",
       "        vertical-align: top;\n",
       "    }\n",
       "\n",
       "    .dataframe thead th {\n",
       "        text-align: right;\n",
       "    }\n",
       "</style>\n",
       "<table border=\"1\" class=\"dataframe\">\n",
       "  <thead>\n",
       "    <tr style=\"text-align: right;\">\n",
       "      <th></th>\n",
       "      <th>city</th>\n",
       "      <th>types</th>\n",
       "      <th>name</th>\n",
       "      <th>longitude</th>\n",
       "      <th>lattitude</th>\n",
       "      <th>distance</th>\n",
       "    </tr>\n",
       "  </thead>\n",
       "  <tbody>\n",
       "    <tr>\n",
       "      <th>0</th>\n",
       "      <td>Vancouver</td>\n",
       "      <td>airport</td>\n",
       "      <td>Aliporto Elisoccorso H Merano</td>\n",
       "      <td>11.149452</td>\n",
       "      <td>46.678572</td>\n",
       "      <td>8472.631662</td>\n",
       "    </tr>\n",
       "  </tbody>\n",
       "</table>\n",
       "</div>"
      ],
      "text/plain": [
       "        city    types                           name  longitude  lattitude  \\\n",
       "0  Vancouver  airport  Aliporto Elisoccorso H Merano  11.149452  46.678572   \n",
       "\n",
       "      distance  \n",
       "0  8472.631662  "
      ]
     },
     "execution_count": 8,
     "metadata": {},
     "output_type": "execute_result"
    }
   ],
   "source": [
    "query_van = [{\"$geoNear\": {\n",
    "            \"near\": van_coo['coordinates'],\n",
    "            \"distanceField\": \"distance\",\n",
    "            \"maxDistance\": 30000,\n",
    "            \"distanceMultiplier\" :6371,\n",
    "            \"spherical\": True}}]\n",
    "dist_van = list(trentino.aggregate(query_van))\n",
    "dist_van = pd.DataFrame(dist_van)\n",
    "dist_van = dist_van.drop(columns=['_id', 'geometry'])\n",
    "dist_van.insert(0, 'city', 'Vancouver')\n",
    "dist_van.head(1)"
   ]
  },
  {
   "cell_type": "markdown",
   "id": "ea21fb32",
   "metadata": {},
   "source": [
    "#### TRENTINO-ALTO ADIGE"
   ]
  },
  {
   "cell_type": "code",
   "execution_count": 10,
   "id": "f70b5203",
   "metadata": {},
   "outputs": [
    {
     "data": {
      "text/html": [
       "<div>\n",
       "<style scoped>\n",
       "    .dataframe tbody tr th:only-of-type {\n",
       "        vertical-align: middle;\n",
       "    }\n",
       "\n",
       "    .dataframe tbody tr th {\n",
       "        vertical-align: top;\n",
       "    }\n",
       "\n",
       "    .dataframe thead th {\n",
       "        text-align: right;\n",
       "    }\n",
       "</style>\n",
       "<table border=\"1\" class=\"dataframe\">\n",
       "  <thead>\n",
       "    <tr style=\"text-align: right;\">\n",
       "      <th></th>\n",
       "      <th>city</th>\n",
       "      <th>types</th>\n",
       "      <th>name</th>\n",
       "      <th>longitude</th>\n",
       "      <th>lattitude</th>\n",
       "      <th>distance</th>\n",
       "    </tr>\n",
       "  </thead>\n",
       "  <tbody>\n",
       "    <tr>\n",
       "      <th>0</th>\n",
       "      <td>Trentino-Alto Adige</td>\n",
       "      <td>bar</td>\n",
       "      <td>Top Bar</td>\n",
       "      <td>11.333633</td>\n",
       "      <td>46.476981</td>\n",
       "      <td>0.116477</td>\n",
       "    </tr>\n",
       "  </tbody>\n",
       "</table>\n",
       "</div>"
      ],
      "text/plain": [
       "                  city types     name  longitude  lattitude  distance\n",
       "0  Trentino-Alto Adige   bar  Top Bar  11.333633  46.476981  0.116477"
      ]
     },
     "execution_count": 10,
     "metadata": {},
     "output_type": "execute_result"
    }
   ],
   "source": [
    "query_tre = [{\"$geoNear\": {\n",
    "            \"near\": tre_coo['coordinates'],\n",
    "            \"distanceField\": \"distance\",\n",
    "            \"maxDistance\": 30000,\n",
    "            \"distanceMultiplier\" :6371,\n",
    "            \"spherical\": True}}]\n",
    "dist_tre = list(trentino.aggregate(query_tre))\n",
    "dist_tre = pd.DataFrame(dist_tre)\n",
    "dist_tre = dist_tre.drop(columns=['_id', 'geometry'])\n",
    "dist_tre.insert(0, 'city', 'Trentino-Alto Adige')\n",
    "dist_tre.head(1)"
   ]
  },
  {
   "cell_type": "markdown",
   "id": "9385489e",
   "metadata": {},
   "source": [
    "# Scores"
   ]
  },
  {
   "cell_type": "markdown",
   "id": "08fc3329",
   "metadata": {},
   "source": [
    "### The city where the sum of the aggregated distances of the nearest: airport, bar and school from the main point, will win."
   ]
  },
  {
   "cell_type": "code",
   "execution_count": 12,
   "id": "232e7c24",
   "metadata": {},
   "outputs": [],
   "source": [
    "df_cities = pd.concat([dist_mad, dist_van, dist_tre]).reset_index(drop=True)\n",
    "df_cities['types'] = df_cities['types'].str.replace('secondary_school','school' )"
   ]
  },
  {
   "cell_type": "code",
   "execution_count": 13,
   "id": "b87c3ab6",
   "metadata": {},
   "outputs": [
    {
     "data": {
      "text/html": [
       "<div>\n",
       "<style scoped>\n",
       "    .dataframe tbody tr th:only-of-type {\n",
       "        vertical-align: middle;\n",
       "    }\n",
       "\n",
       "    .dataframe tbody tr th {\n",
       "        vertical-align: top;\n",
       "    }\n",
       "\n",
       "    .dataframe thead tr th {\n",
       "        text-align: left;\n",
       "    }\n",
       "\n",
       "    .dataframe thead tr:last-of-type th {\n",
       "        text-align: right;\n",
       "    }\n",
       "</style>\n",
       "<table border=\"1\" class=\"dataframe\">\n",
       "  <thead>\n",
       "    <tr>\n",
       "      <th></th>\n",
       "      <th colspan=\"3\" halign=\"left\">distance</th>\n",
       "      <th>total</th>\n",
       "    </tr>\n",
       "    <tr>\n",
       "      <th>types</th>\n",
       "      <th>airport</th>\n",
       "      <th>bar</th>\n",
       "      <th>school</th>\n",
       "      <th></th>\n",
       "    </tr>\n",
       "    <tr>\n",
       "      <th>city</th>\n",
       "      <th></th>\n",
       "      <th></th>\n",
       "      <th></th>\n",
       "      <th></th>\n",
       "    </tr>\n",
       "  </thead>\n",
       "  <tbody>\n",
       "    <tr>\n",
       "      <th>Madrid</th>\n",
       "      <td>4.983031</td>\n",
       "      <td>0.216570</td>\n",
       "      <td>5.930955</td>\n",
       "      <td>11.130556</td>\n",
       "    </tr>\n",
       "    <tr>\n",
       "      <th>Trentino-Alto Adige</th>\n",
       "      <td>1.717930</td>\n",
       "      <td>0.116477</td>\n",
       "      <td>0.687058</td>\n",
       "      <td>2.521465</td>\n",
       "    </tr>\n",
       "    <tr>\n",
       "      <th>Vancouver</th>\n",
       "      <td>8472.631662</td>\n",
       "      <td>8497.804572</td>\n",
       "      <td>8493.286437</td>\n",
       "      <td>25463.722670</td>\n",
       "    </tr>\n",
       "  </tbody>\n",
       "</table>\n",
       "</div>"
      ],
      "text/plain": [
       "                        distance                                   total\n",
       "types                    airport          bar       school              \n",
       "city                                                                    \n",
       "Madrid                  4.983031     0.216570     5.930955     11.130556\n",
       "Trentino-Alto Adige     1.717930     0.116477     0.687058      2.521465\n",
       "Vancouver            8472.631662  8497.804572  8493.286437  25463.722670"
      ]
     },
     "execution_count": 13,
     "metadata": {},
     "output_type": "execute_result"
    }
   ],
   "source": [
    "df_cities = df_cities.groupby(['city', 'types']).agg({'distance': 'min'}).unstack()\n",
    "df_cities['total'] = df_cities.sum(numeric_only=True, axis=1)\n",
    "df_cities"
   ]
  },
  {
   "cell_type": "markdown",
   "id": "a04f942b",
   "metadata": {},
   "source": [
    "### Trentinto-Alto Adige in Italy, is the most convenient city for the new office."
   ]
  },
  {
   "cell_type": "code",
   "execution_count": null,
   "id": "ee451021",
   "metadata": {},
   "outputs": [],
   "source": []
  }
 ],
 "metadata": {
  "kernelspec": {
   "display_name": "ironhack",
   "language": "python",
   "name": "ironhack"
  },
  "language_info": {
   "codemirror_mode": {
    "name": "ipython",
    "version": 3
   },
   "file_extension": ".py",
   "mimetype": "text/x-python",
   "name": "python",
   "nbconvert_exporter": "python",
   "pygments_lexer": "ipython3",
   "version": "3.9.7"
  }
 },
 "nbformat": 4,
 "nbformat_minor": 5
}
